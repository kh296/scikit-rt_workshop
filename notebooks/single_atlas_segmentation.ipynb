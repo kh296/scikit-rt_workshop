{
 "cells": [
  {
   "cell_type": "markdown",
   "id": "12fc2715-f229-4619-bc82-a936fa66e175",
   "metadata": {},
   "source": [
    "# Single-atlas segmentation\n",
    "\n",
    "This notebook demonstrates use of [scikit-rt](https://github.com/scikit-rt/scikit-rt) for single-atlas segmentation, and for evaluation of the results obtained.  \n",
    "\n",
    "In single-atlas segmentation, segmentations from one image (atlas) are mapped to another image (target).  There are two similar strategies, corresponding to the two types of ROI representation:\n",
    "\n",
    "- pull strategy: the atlas (moving) is registered to the target (fixed), then ROI masks are pulled from former to latter using the registration transform;\n",
    "- push strategy: the target (moving) is registered to the atlas (fixed), then ROI contours are pushed from latter to former using the registration transform.\n",
    "\n",
    "In `scikit-rt`, the underlying image registration can be performed with [elastix](https://elastix.lumc.nl) and with [NiftyReg](http://cmictig.cs.ucl.ac.uk/wiki/index.php/NiftyReg).  With the former, both pull and push strategies are enabled.  With the latter, only the pull strategy is enabled.\n",
    "\n",
    "In optimisation, atlas and target each have their own segmentations.  Segmentations mapped from atlas to target are then compared with the original segmentations of the target.\n",
    "\n",
    "Documentation for `scikit-rt` is at:  \n",
    "[https://scikit-rt.github.io/scikit-rt/](https://scikit-rt.github.io/scikit-rt/)\n",
    "\n",
    "This notebook uses the dataset:\n",
    "\n",
    "Peihan Li, \"SPECT_CT_data.zip\", Figshare dataset (2020)  \n",
    "https://doi.org/10.6084/m9.figshare.12579707.v1\n",
    "\n",
    "If not already present on the computer where this notebook is run, the dataset will be downloaded to the directory specified by `topdir` in the\n",
    "first code cell below.  The download file has a size of 1.6 GB, so download may take a while."
   ]
  },
  {
   "cell_type": "markdown",
   "id": "70933d87-f092-428c-aa10-cb89f31affb6",
   "metadata": {},
   "source": [
    "## Module import and data download\n",
    "\n",
    "The following imports modules needed for this example, defines the path to the data directory, downloads the example dataset if not already present, obtains the list of paths to patient folders, and sets some viewer options."
   ]
  },
  {
   "cell_type": "code",
   "execution_count": null,
   "id": "31618b89-bf40-494a-b103-3c90b0462480",
   "metadata": {},
   "outputs": [],
   "source": [
    "from pathlib import Path\n",
    "from skrt import set_viewer_options, BetterViewer, Patient\n",
    "from skrt.core import alphanumeric, compress_user, download, Defaults\n",
    "from skrt.dose import sum_doses\n",
    "from skrt.registration import get_default_pfiles\n",
    "from skrt.segmentation import SingleAtlasSegmentation\n",
    "\n",
    "# Define URL of source dataset, and local data directory.\n",
    "url = \"https://figshare.com/ndownloader/files/23528954/SPECT_CT_data.zip\"\n",
    "topdir = Path(\"~/data/spect_ct\").expanduser()\n",
    "datadir = topdir / Path(url).stem\n",
    "\n",
    "# Download dataset if not already present.\n",
    "if not datadir.exists():\n",
    "    download(url, topdir, unzip=True)\n",
    "    \n",
    "# Obtain sorted list of paths to patient folders.\n",
    "paths = sorted(list(datadir.glob(\"0*\")))\n",
    "    \n",
    "# Set Matplotlib runtime configuration (optional).\n",
    "set_viewer_options()\n",
    "\n",
    "# In place of interactive images, display static graphics that can be saved with notebook.\n",
    "# Defaults().no_ui = True\n",
    "# Omit user part of paths when printing object attributes.\n",
    "Defaults().compress_user = True"
   ]
  },
  {
   "cell_type": "markdown",
   "id": "c79f702b-54e4-4009-a556-e2ce01ef9815",
   "metadata": {},
   "source": [
    "## Sample data\n",
    "\n",
    "The following defines some sample data.  The indices for the paths to patient folders can be changed, but the ROIs outlined, and their labels, may be different."
   ]
  },
  {
   "cell_type": "code",
   "execution_count": null,
   "id": "170c7df6-6c5f-4757-8b0b-d9c4fab57f80",
   "metadata": {},
   "outputs": [],
   "source": [
    "# Map possible ROI labels to standardised names.\n",
    "roi_names = {\n",
    "    \"heart\": \"heart\",\n",
    "    \"lung_left\": \"lung_l*\",\n",
    "    \"lung_right\": \"lung_r*\",\n",
    "    \"spinal_cord\": [\"cord*\", \"spinal*cord\"],\n",
    "}\n",
    "\n",
    "# Load data from selected paths.\n",
    "indices = [10, 16]\n",
    "patients = [Patient(paths[idx], unsorted_dicom=True) for idx in indices]\n",
    "\n",
    "# Obtain references to filtered structure sets.\n",
    "structure_sets = [p.get_structure_sets(\"ct\")[0].filtered_copy(names=roi_names, keep_renamed_only=True)\n",
    "                  for p in patients]\n",
    "\n",
    "# Obtain references to ct images.\n",
    "images = [ss.get_image() for ss in structure_sets]\n",
    "\n",
    "# Assign filtered structure sets to images.\n",
    "[im.assign_structure_set(ss) for im, ss in zip(images, structure_sets)]\n",
    "\n",
    "# Obtain references to summed doses.\n",
    "doses = [sum_doses(im.get_doses()) for im in images]"
   ]
  },
  {
   "cell_type": "code",
   "execution_count": null,
   "id": "d0e5bead-e7a2-4943-abb9-4793b35114ac",
   "metadata": {},
   "outputs": [],
   "source": [
    "## Setting up single-atlas-segmentation"
   ]
  },
  {
   "cell_type": "code",
   "execution_count": null,
   "id": "5754cef1-df27-49c2-b824-12243d84ee1d",
   "metadata": {},
   "outputs": [],
   "source": [
    "# Set paths to directories containing registration software.\n",
    "engine_dirs = {\n",
    "    \"elastix\": \"~/sw/elastix-5.0.1-mac\",\n",
    "    \"niftyreg\": \"~/sw/niftyreg\",\n",
    "}\n",
    "\n",
    "# Choose registration engine.\n",
    "engine = \"elastix\"\n",
    "\n",
    "# Set indices for target and atlas (one should be 0, and the other should be 1).\n",
    "target = 0\n",
    "atlas = 1\n",
    "\n",
    "# Set ROI for initial alignment, and margins around it for cropping.\n",
    "roi_to_align = \"heart\"\n",
    "crop_margins = (1000, (-100, 100), 100)\n",
    "\n",
    "# Set voxel size (larger x-y dimensions, to reduce computing time).\n",
    "voxel_size = (2, 2, None)\n",
    "\n",
    "# Define intensity bands: set intensities of 80 and lower to -1024.\n",
    "bands = {-1024:(None, 80)}"
   ]
  },
  {
   "cell_type": "code",
   "execution_count": null,
   "id": "168541cd-66ba-444c-b1c7-b5eeb2823f44",
   "metadata": {},
   "outputs": [],
   "source": [
    "# Create the segmentation instance.\n",
    "sas = SingleAtlasSegmentation(\n",
    "    engine=engine,\n",
    "    engine_dir=engine_dirs[engine],\n",
    "    im1=images[target],\n",
    "    im2=images[atlas],\n",
    "    workdir=Path(f\"sas_results/{patients[target].id}_{patients[atlas].id}\"),\n",
    "    roi_names=None,\n",
    "    initial_crop_focus=roi_to_align,\n",
    "    initial_crop_margins=crop_margins,\n",
    "    initial_alignment=roi_to_align,\n",
    "    voxel_size1=voxel_size,\n",
    "    bands1=bands,\n",
    "    pfiles1={\"bspline\": get_default_pfiles(\"*BSpline15*\", engine)[0]},             \n",
    "    default_roi_crop_margins=(20, 20, 20),\n",
    "    roi_crop_margins={\"heart\": (20, 20, 20)},\n",
    "    voxel_size2=voxel_size,\n",
    "    auto=True,\n",
    "    auto_reg_setup_only=True,\n",
    "    default_step=-1,\n",
    "    default_strategy=\"pull\",\n",
    "    overwrite=True,\n",
    "    capture_output=True,\n",
    "    keep_tmp_dir = False,\n",
    "    log_level=\"INFO\",\n",
    ")"
   ]
  },
  {
   "cell_type": "code",
   "execution_count": null,
   "id": "1cff7d2b-a9fb-4e97-a60b-51832ba410ea",
   "metadata": {},
   "outputs": [],
   "source": [
    "# Display the original images and segmentations.\n",
    "sas.im1.view(init_view=\"y-z\", images=sas.im2, rois=[sas.ss1_filtered, sas.ss2_filtered], match_axes=\"y\", comparison=True);"
   ]
  },
  {
   "cell_type": "code",
   "execution_count": null,
   "id": "89f12e45-d670-4058-8603-a85ee40f8781",
   "metadata": {},
   "outputs": [],
   "source": [
    "# Show results at each step of registration.\n",
    "roi_name = \"heart\"\n",
    "for step in [\"global\"]:\n",
    "    reg = sas.get_registration(roi_name=roi_name, step=step)\n",
    "    for reg_step in reg.steps:\n",
    "        print(step, reg_step, reg.get_mutual_information(reg_step, variant=\"iqr\"))\n",
    "        reg.view_result(reg_step, init_view=\"y-z\", rois=[sas.ss1_filtered[roi_name], sas.get_segmentation(reg_step=reg_step)[roi_name]])"
   ]
  },
  {
   "cell_type": "code",
   "execution_count": null,
   "id": "082b3478-0261-4ff9-aaad-be05d0f662f2",
   "metadata": {},
   "outputs": [],
   "source": [
    "# Display the final result.\n",
    "ss2_global = sas.get_segmentation(strategy=\"pull\", step=\"global\", reg_step=\"initial_alignment\")\n",
    "ss2_local = sas.get_segmentation(strategy=\"pull\", step=\"local\", reg_step=[\"bspline\"])\n",
    "for roi_name in roi_names:\n",
    "    ss2_global[roi_name].set_color(\"blue\")\n",
    "    ss2_local[roi_name].set_color(\"red\")\n",
    "    sas.ss1_filtered[roi_name].set_color(\"gold\")\n",
    "\n",
    "\n",
    "rois = sas.ss1_filtered + ss2_global + ss2_local\n",
    "rois.set_image(sas.im1, add_to_image=False)\n",
    "\n",
    "sas.im1.view(rois=rois, legend=False, init_view=\"x-y\", figsize=10, zoom=1, zoom_ui=True);"
   ]
  },
  {
   "cell_type": "code",
   "execution_count": null,
   "id": "b5083c70-41d0-4123-883f-4fcc2c30a3d4",
   "metadata": {},
   "outputs": [],
   "source": [
    "# Compare segmentations mapped to target and original segmentations of target.\n",
    "df = sas.get_comparison(to_keep=list(roi_names), metrics=[\"dice\"], steps=True, reg_steps=True)\n",
    "for roi_name in roi_names:\n",
    "    print(df[df[\"ROI\"] == roi_name])\n",
    "    print()"
   ]
  }
 ],
 "metadata": {
  "kernelspec": {
   "display_name": "Python 3 (ipykernel)",
   "language": "python",
   "name": "python3"
  },
  "language_info": {
   "codemirror_mode": {
    "name": "ipython",
    "version": 3
   },
   "file_extension": ".py",
   "mimetype": "text/x-python",
   "name": "python",
   "nbconvert_exporter": "python",
   "pygments_lexer": "ipython3",
   "version": "3.8.15"
  },
  "toc-showtags": false
 },
 "nbformat": 4,
 "nbformat_minor": 5
}

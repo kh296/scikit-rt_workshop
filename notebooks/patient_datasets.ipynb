{
 "cells": [
  {
   "cell_type": "markdown",
   "id": "b0708b38-725b-49c0-9ba4-de7006308cb4",
   "metadata": {},
   "source": [
    "## Working with patient datasets\n",
    "\n",
    "This notebook provides an introduction to working with patient datasets using `scikit-rt`.\n",
    "\n",
    "Documentation for `scikit-rt` is at:  \n",
    "[https://scikit-rt.github.io/scikit-rt/](https://scikit-rt.github.io/scikit-rt/)\n",
    "\n",
    "This notebook uses the dataset:\n",
    "\n",
    "Peihan Li, \"SPECT_CT_data.zip\", Figshare dataset (2020)  \n",
    "https://doi.org/10.6084/m9.figshare.12579707.v1\n",
    "\n",
    "If not already present on the computer where this notebook is run, the dataset will be downloaded to the directory specified by `topdir` in the\n",
    "first code cell below.  The download file has a size of 1.6 GB, so download may take a while."
   ]
  },
  {
   "cell_type": "markdown",
   "id": "e6f17651-2a2a-44ac-92c5-38fd3916ca83",
   "metadata": {},
   "source": [
    "## Module import and data download\n",
    "\n",
    "The following imports modules needed for this example, defines the path\n",
    "to the data directory, downloads the example dataset if not already present, obtains the list of paths to patient folders, and sets some viewer options."
   ]
  },
  {
   "cell_type": "code",
   "execution_count": null,
   "id": "d0efaad7-097e-44ea-b8d8-e667cd573234",
   "metadata": {},
   "outputs": [],
   "source": [
    "from pathlib import Path\n",
    "from skrt import set_viewer_options, BetterViewer, Patient\n",
    "from skrt.core import alphanumeric, compress_user, Defaults\n",
    "\n",
    "# Define URL of source dataset, and local data directory.\n",
    "url = \"https://figshare.com/ndownloader/files/23528954/SPECT_CT_data.zip\"\n",
    "topdir = Path(\"~/data/spect_ct\").expanduser()\n",
    "datadir = topdir / Path(url).stem\n",
    "\n",
    "# Download dataset if not already present.\n",
    "if not datadir.exists():\n",
    "    download(url, topdir, unzip=True)\n",
    "    \n",
    "# Obtain sorted list of paths to patient folders.\n",
    "paths = sorted(list(datadir.glob(\"0*\")))\n",
    "    \n",
    "# Set Matplotlib runtime configuration (optional).\n",
    "set_viewer_options()\n",
    "\n",
    "# In place of interactive images, display static graphics that can be saved with notebook.\n",
    "# Defaults().no_ui = True\n",
    "# Omit user part of paths when printing object attributes.\n",
    "Defaults().compress_user = True"
   ]
  },
  {
   "cell_type": "markdown",
   "id": "0a243dd3-7a7f-4231-b3eb-46ae02d7dec6",
   "metadata": {},
   "source": [
    "## Utility functions\n",
    "\n",
    "The following utility functions are defined for this notebook.\n",
    "- get_n_file(): count the number of files below a directory;\n",
    "- print_paths(): print file paths below a directory, printing one file per line, and with optional maximum."
   ]
  },
  {
   "cell_type": "code",
   "execution_count": null,
   "id": "c597e3e5-c618-415e-ac8b-0215b9e0a514",
   "metadata": {},
   "outputs": [],
   "source": [
    "def get_n_file(data_dir):\n",
    "    \"\"\"\n",
    "    Count number of files below a directory, ignoring hidden files.\n",
    "    \n",
    "    **Parameter:**\n",
    "    data_dir: str, pathlib.Path\n",
    "        Path to directory below which files are to be counted.\n",
    "    \"\"\"\n",
    "    return len([path for path in Path(data_dir).glob(\"**/[!.]*\") if path.is_file()]) \n",
    "\n",
    "def print_paths(data_dir, max_path=None):\n",
    "    \"\"\"\n",
    "    Print paths to files below a directory, ignoring hidden files.\n",
    "    \n",
    "    File paths are listed in natural order, with one path per line.\n",
    "    \n",
    "    **Parameters:**\n",
    "    data_dir: str, pathlib.Path\n",
    "        Path to directory below which file paths are to be printed.\n",
    "        \n",
    "    max_path: int/None, default=None\n",
    "        Indication of maximum number of paths to print.  If a positive\n",
    "        integer, the first <max_path> paths are printed.  If a negative\n",
    "        integer, the last <max_path> paths are printed.  If None,\n",
    "        all paths are printed.\n",
    "    \"\"\"\n",
    "    local_paths = sorted(list(Path(data_dir).glob(\"**/[!.]*\")), key=alphanumeric)\n",
    "    if max_path is None:\n",
    "        selected_paths = local_paths\n",
    "    else:\n",
    "        if max_path >= 0:\n",
    "            selected_paths = local_paths[: max_path]\n",
    "        else:\n",
    "            selected_paths = local_paths[max_path:]\n",
    "    for path in selected_paths:\n",
    "        print(compress_user(path))"
   ]
  },
  {
   "cell_type": "markdown",
   "id": "f56ca8fc-0cf0-4bf0-926f-9fd7eb4085b2",
   "metadata": {},
   "source": [
    "## Unsorted DICOM data\n",
    "\n",
    "Each element of the list `paths` identifies a folder containing unsorted DICOM data for a single patient.  Choose any element, then print the number of files that it containts, and a listing of the file paths, for example:\n",
    "\n",
    "```\n",
    "idx = 4\n",
    "print_paths(paths[idx])\n",
    "```\n",
    "\n",
    "Q1: What types of data can you identify from the listing of file paths?"
   ]
  },
  {
   "cell_type": "code",
   "execution_count": null,
   "id": "42fb7763-7ddc-4bed-bcb0-532942e876ae",
   "metadata": {},
   "outputs": [],
   "source": []
  },
  {
   "cell_type": "markdown",
   "id": "b76ee68e-6bf4-4a2e-86cd-1a03e2d6910d",
   "metadata": {},
   "source": [
    "Read the data from the chosen path, and print the study attributes, for example:\n",
    "\n",
    "```\n",
    "p1 = Patient(paths[idx], unsorted_dicom=True)\n",
    "print(p1.get_studies())\n",
    "```\n",
    "\n",
    "This will show the images, structure sets, doses, plans in each study.  The attributes include a number of unique identifiers (UIDs), used in the data sorting.  In a future release of `scikit-rt`, these are likely to be deleted once the sorting is completed. "
   ]
  },
  {
   "cell_type": "code",
   "execution_count": null,
   "id": "adaaa423-7317-4c38-a44e-b8cf50b131f5",
   "metadata": {},
   "outputs": [],
   "source": []
  },
  {
   "cell_type": "markdown",
   "id": "5a3fcf11-dffe-4e8d-8c58-d08074f56785",
   "metadata": {},
   "source": [
    "## Sorted DICOM data\n",
    "\n",
    "Copy the data, sorted by data types, for example:\n",
    "\n",
    "```\n",
    "sorted_dir = f\"sorted_{p1.id}\"\n",
    "p1.copy_dicom(outdir)\n",
    "```\n",
    "\n",
    "Warnings about missing DICOM tags may be produced during copying, but these can be ignored."
   ]
  },
  {
   "cell_type": "code",
   "execution_count": null,
   "id": "a4fda056-2396-41d8-852c-7cd0f81d312f",
   "metadata": {},
   "outputs": [],
   "source": []
  },
  {
   "cell_type": "markdown",
   "id": "ef6b2d64-2002-44c6-9eee-f5af4a26e825",
   "metadata": {},
   "source": [
    "Print the number of sorted files, and a listing of the file paths.\n",
    "\n",
    "Q2: What might cause the number of sorted files to be different from the number of unsorted files?\n",
    "\n",
    "Q3: What types of data can you identify from the listing of sorted files?"
   ]
  },
  {
   "cell_type": "code",
   "execution_count": null,
   "id": "7202f2c8-7670-43a2-a947-3c650bd96411",
   "metadata": {},
   "outputs": [],
   "source": []
  },
  {
   "cell_type": "markdown",
   "id": "e9122cb4-70c8-44eb-81ec-022adee94be3",
   "metadata": {},
   "source": [
    "Read the sorted data, and print the study attributes.\n",
    "\n",
    "Q4: What differences are there between the study attributes for sorted data and those for unsorted data?"
   ]
  },
  {
   "cell_type": "code",
   "execution_count": null,
   "id": "f6a7f1a9-4f44-4019-9dcb-94e125e85d71",
   "metadata": {},
   "outputs": [],
   "source": []
  },
  {
   "cell_type": "markdown",
   "id": "2899a7a8-e700-4eec-8018-b0af0677d7d7",
   "metadata": {},
   "source": [
    "## Accessing data objects\n",
    "\n",
    "The images, structure sets, doses and plans associated with a patient (across all studies) or with a single study can be accessed with the methods:\n",
    "\n",
    "```\n",
    "get_images()\n",
    "get_structure_sets()\n",
    "get_doses()\n",
    "get_plans()\n",
    "```\n",
    "\n",
    "It's possible to require that the objects returned relate to one or more imaging modalities, or that the objects be linked to other types of objects, for example:\n",
    "\n",
    "```\n",
    "# Obtain ct images with associated structure set(s) and dose(s).\n",
    "get_images(\"ct\", associations=[\"structure_sets\", \"doses\"])\n",
    "```\n",
    "\n",
    "For the patient dataset that you chose earlier, print the lengths of the lists of:\n",
    "\n",
    "- all images;\n",
    "- all images of type \"ct\";\n",
    "- all images of type \"ct\" with associated structure set(s) and dose(s)."
   ]
  },
  {
   "cell_type": "code",
   "execution_count": null,
   "id": "cd2f5fe6-4cf4-4be8-b2ca-d436bcda1d5b",
   "metadata": {},
   "outputs": [],
   "source": []
  },
  {
   "cell_type": "markdown",
   "id": "25bf2233-31da-4ac6-a944-bac04ced11e7",
   "metadata": {},
   "source": [
    "## Viewing data objects\n",
    "\n",
    "Images, structure sets and doses can be viewed interactively using the `BetterViewer` class, for example:\n",
    "\n",
    "```\n",
    "structure_set = p1.get_structure_sets(\"ct\")[0]\n",
    "image = structure_set.get_image()\n",
    "BetterViewer(images=[image], rois=[structure_set])\n",
    "```\n",
    "\n",
    "If more than one image is passed as argument, the images are displayed side by side.\n",
    "\n",
    "Images, structure sets and doses have a `view()` method, which creates a `BetterViewer` instance, passing the calling object as argument, for example:\n",
    "\n",
    "```\n",
    "image.view(rois=structure_set)\n",
    "```\n",
    "\n",
    "Try viewing, side by side, a ct image, and a ct image with structure set superimposed."
   ]
  },
  {
   "cell_type": "code",
   "execution_count": null,
   "id": "63c865ac-a6e2-4536-945a-bb834218d824",
   "metadata": {},
   "outputs": [],
   "source": []
  },
  {
   "cell_type": "markdown",
   "id": "773e707d-26c2-42d6-9fb4-6f1710fff077",
   "metadata": {},
   "source": [
    "## Filtering structure sets and standardising ROI names\n",
    "\n",
    "When working with structure sets, it can be useful to filter so as to have ROIs relevant to an anlysis.  The same ROI may be labelled differently in different structure sets, so standardising names can also be useful.  A new structure set can be obtained, with the original left unaltered, for example:\n",
    "\n",
    "```\n",
    "filtered_structure_set = p1.get_structure_sets(\"ct\")[0].filtered_copy(\n",
    "    names={\"spinal_cord\": \"cord*\"}, keep_renamed_only=True)\n",
    "```\n",
    "\n",
    "Try creating and viewing a structure set that contains \"heart\", \"lung_left\", \"lung_right\", \"spinal_cord\".  Include a legend identifying the ROIs.\n",
    "\n",
    "Q5: What happens to the legend as you scroll through the image?"
   ]
  },
  {
   "cell_type": "code",
   "execution_count": null,
   "id": "ee3fd3f6-2318-4480-9335-a5fe67481142",
   "metadata": {},
   "outputs": [],
   "source": []
  }
 ],
 "metadata": {
  "kernelspec": {
   "display_name": "Python 3 (ipykernel)",
   "language": "python",
   "name": "python3"
  },
  "language_info": {
   "codemirror_mode": {
    "name": "ipython",
    "version": 3
   },
   "file_extension": ".py",
   "mimetype": "text/x-python",
   "name": "python",
   "nbconvert_exporter": "python",
   "pygments_lexer": "ipython3",
   "version": "3.8.15"
  }
 },
 "nbformat": 4,
 "nbformat_minor": 5
}

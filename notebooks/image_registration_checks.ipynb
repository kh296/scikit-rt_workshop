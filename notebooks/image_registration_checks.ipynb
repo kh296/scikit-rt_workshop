{
 "cells": [
  {
   "cell_type": "markdown",
   "id": "5ea79a16-b0fc-41ad-9727-db0c8611aa33",
   "metadata": {},
   "source": [
    "## Image Registration: performance checks\n",
    "\n",
    "This notebook demonstrates use of [Scikit-rt](https://github.com/scikit-rt/scikit-rt) for performing image registration with [elastix](https://elastix.lumc.nl) and [NiftyReg](http://cmictig.cs.ucl.ac.uk/wiki/index.php/NiftyReg), and for checking what the registration has done."
   ]
  },
  {
   "cell_type": "markdown",
   "id": "e73f2137-0cc7-4b6a-a318-085eb9ca07a8",
   "metadata": {},
   "source": [
    "### 1. Initial setup\n",
    "\n",
    "To run this notebook, it needs to be downloaded to a machine that\n",
    "has [Scikit-rt](https://github.com/scikit-rt/scikit-rt), and at least one\n",
    "of the registration engines [elastix](https://elastix.lumc.nl) and [NiftyReg](http://cmictig.cs.ucl.ac.uk/wiki/index.php/NiftyReg), as outlined in\n",
    "the [installation instructions](https://scikit-rt.github.io/scikit-rt/installation.html).\n",
    "\n",
    "Code in the cell below may need to be modified:\n",
    "\n",
    "- `engine_dir` should be defined so that keys identify the installed registration\n",
    "  engines (\"elastix\" and/or \"niftyreg\"), and associated values are paths to\n",
    "  the directories containing the software;\n",
    "- `outdir` should be a path to a writeable directory,\n",
    "   to be used for registration output.\n",
    "- `no_ui` is set to `False` to include user-interface elements\n",
    "   ([Jupyter widgets](https://ipywidgets.readthedocs.io/en/latest/)),\n",
    "   enabling interactive control; it may be  set to `True` to allow image\n",
    "   rendering on GitHub."
   ]
  },
  {
   "cell_type": "code",
   "execution_count": 1,
   "id": "80036583-d7fc-4ec8-a9bc-d508b7899c59",
   "metadata": {},
   "outputs": [],
   "source": [
    "# Import required classes and functions.\n",
    "from skrt import Defaults, Patient, Registration, SyntheticImage\n",
    "from skrt.better_viewer.options import set_viewer_options\n",
    "from skrt.core import fullpath\n",
    "from skrt.registration import get_default_pfiles\n",
    "\n",
    "# Set paths to directories containing registration software.\n",
    "engine_dirs = {\n",
    "    \"elastix\": \"~/sw/elastix-5.0.1-mac\",\n",
    "    \"niftyreg\": \"~/sw/niftyreg\",\n",
    "}\n",
    "\n",
    "# Set path to directory to be used for registration output.\n",
    "outdir = \"registration_results/synthetic\"\n",
    "\n",
    "# Define whether or not to display user interface, allowing interactive view adjustment.\n",
    "no_ui = False"
   ]
  },
  {
   "cell_type": "code",
   "execution_count": 2,
   "id": "c31144e1-bbee-4873-bfd1-6cf3fa110517",
   "metadata": {},
   "outputs": [],
   "source": [
    "# Expand paths to software directories, and convert to pathlib.Path objects.\n",
    "# Raise exception if a path doesn't identify an existing directory.\n",
    "for engine in engine_dirs:\n",
    "    engine_dirs[engine] = fullpath(engine_dirs[engine], True)\n",
    "    if not engine_dirs[engine].is_dir():\n",
    "        raise(f\"Directory not found: {engine_dirs[engine]}\")\n",
    "        \n",
    "outdir = fullpath(outdir, True)"
   ]
  },
  {
   "cell_type": "markdown",
   "id": "8601a202-7e4b-4fab-9260-c0011c142d60",
   "metadata": {},
   "source": [
    "### 2. Display options\n",
    "\n",
    "Scikit-rt provides a large number of options for customising image display, both directly (see documentation for [better_viewer package](https://scikit-rt.github.io/scikit-rt/skrt.better_viewer.html#module-skrt.better_viewer), and indirectly, via Matplotlib [plot options](https://matplotlib.org/stable/api/_as_gen/matplotlib.pyplot.plot.html) and [runtime configuration](https://matplotlib.org/stable/tutorials/introductory/customizing.html).\n",
    "Some of the possibilities are demonstrated in [plotting_demo.ipynb](https://github.com/scikit-rt/scikit-rt/blob/master/examples/notebooks/plotting_demo.ipynb).\n",
    "\n",
    "Code in the cell below aims to set reasonable display options, but you can\n",
    "replace this with something different."
   ]
  },
  {
   "cell_type": "code",
   "execution_count": 3,
   "id": "29b2467e-08dd-43dd-8ee0-38ccd826d311",
   "metadata": {},
   "outputs": [],
   "source": [
    "# Set default Matplotlib runtime configuration,\n",
    "# and obtain default options that can be passed to `view()` methods.\n",
    "options = set_viewer_options(to_exclude=\"figsize\", usetex=True, no_ui=no_ui);"
   ]
  },
  {
   "cell_type": "markdown",
   "id": "316ea520-9efa-4b6d-a8dd-7b6bc5e5aeab",
   "metadata": {},
   "source": [
    "### 3. Synthetic images for registration\n",
    "\n",
    "Example synthetic images for registration are defined in the code cell below.  These may be replaced by other synthetic images (see some possibilities in: [simulation module](https://scikit-rt.github.io/scikit-rt/skrt.simulation.html)) or by [DICOM](https://www.dicomstandard.org/) or [NIfTI](https://nifti.nimh.nih.gov/) image data loaded as [Image](https://scikit-rt.github.io/scikit-rt/skrt.image.html#skrt.image.Image) objects."
   ]
  },
  {
   "cell_type": "code",
   "execution_count": 4,
   "id": "ca7ccd42-dd09-4c16-a7e1-a1b9e677aa42",
   "metadata": {},
   "outputs": [],
   "source": [
    "# Fixed image for registration, featuring sphere of radius 30 mm,\n",
    "# centred on image centre.\n",
    "fixed = SyntheticImage(shape=(101, 101, 101), origin=(-50, -50, -50))\n",
    "fixed.add_sphere(radius=30, name=\"sphere\", centre=(0, 0, 0), intensity=100)\n",
    "\n",
    "# Moving image for registration, featuring cube of side length 40 mm,\n",
    "# offset from image centre by (dx, dy, dz).\n",
    "moving = SyntheticImage(shape=(101, 101, 101), origin=(-50, -50, -50))\n",
    "dx, dy, dz = (4, -4, 2)\n",
    "moving.add_cube(side_length=40, name=\"cube\", centre=(dx, dy, dz), intensity=100)"
   ]
  },
  {
   "cell_type": "markdown",
   "id": "38f3932e-8131-4329-8623-93f2986f5bf4",
   "metadata": {
    "tags": []
   },
   "source": [
    "### 3. Define and run registrations.\n",
    "\n",
    "Registrations are run as sequences of steps.  For details of the parameters used in defining the registration steps, see documentation for the [Registration](https://scikit-rt.github.io/scikit-rt/skrt.registration.html#skrt.registration.Registration) class.\n",
    "\n",
    "The examples here use parameter files included in the scikit-rt package.  Functions have been defined for listing the predefined parameter files for a given registration engine, and for listing file contents.\n",
    "\n",
    "```\n",
    "from skrt.registration import get_default_pfiles, read_parameters\n",
    "\n",
    "# List predefined parameter files for NiftyReg.\n",
    "pfiles = get_default_pfiles(engine=\"niftyreg\")\n",
    "print(pfiles)\n",
    "\n",
    "# List contents of one of the parameter files.\n",
    "params = read_parameters(pfiles[0])\n",
    "print(params)\n",
    "```"
   ]
  },
  {
   "cell_type": "code",
   "execution_count": 5,
   "id": "f7157b07-d11e-459b-a1db-37a9748aa666",
   "metadata": {},
   "outputs": [],
   "source": [
    "# Define and run registrations\n",
    "registrations = {}\n",
    "for engine in engine_dirs:\n",
    "# Create object defining registration steps.\n",
    "    registrations[engine] = Registration(\n",
    "        engine=engine, # registration engine\n",
    "        engine_dir=engine_dirs[engine], # folder containing registration software\n",
    "        initial_alignment=(dx, dy, dz), # translation of fixed image to align with moving image\n",
    "        fixed=fixed, # fixed image\n",
    "        moving=moving, # moving image\n",
    "        pfiles={\"bspline\": get_default_pfiles(\"*BSpline05*\", engine)[0]}, # parameter files\n",
    "        path=outdir / engine, # output directory\n",
    "        overwrite=True, # overwrite any previous results in the output directory\n",
    "        capture_output=True, # suppress output from registration engine\n",
    "        log_level='INFO',) # severity level for message logging\n",
    "\n",
    "for reg in registrations.values():\n",
    "    reg.register()\n",
    "    \n",
    "# For each registration step, obtain transformed grid, Jacobian determinant, and deformation field.\n",
    "# Results are stored with the Registration object.\n",
    "# They can subsequently be displayed, without needing to be recalculated.\n",
    "    for step in reg.steps[-1:]:\n",
    "        reg.get_transformed_grid(step, spacing=(10,10,10), thickness=(2, 2, 2), color='green', force=True)\n",
    "        reg.get_jacobian(step)\n",
    "        reg.get_deformation_field(step)"
   ]
  },
  {
   "cell_type": "markdown",
   "id": "f9d6ae70-021e-4b9a-8242-3b4c69e48aa8",
   "metadata": {},
   "source": [
    "### 4. Display initial images\n",
    "\n",
    "The pre-registration images (the same for elastix and NiftReg) are displayed and compared.  The default is to show the `x-y` slice at `z = 0`. \n"
   ]
  },
  {
   "cell_type": "code",
   "execution_count": 6,
   "id": "364eded1-932b-4a23-a02a-9ac290f21071",
   "metadata": {},
   "outputs": [
    {
     "data": {
      "application/vnd.jupyter.widget-view+json": {
       "model_id": "ff82b31bb07643ba9431e255bdad2af0",
       "version_major": 2,
       "version_minor": 0
      },
      "text/plain": [
       "VBox(children=(HBox(children=(VBox(children=(RadioButtons(description='Slice plane selection:', options=('x-y'…"
      ]
     },
     "metadata": {},
     "output_type": "display_data"
    },
    {
     "data": {
      "application/vnd.jupyter.widget-view+json": {
       "model_id": "94265acd64904a89a62e82bba992a945",
       "version_major": 2,
       "version_minor": 0
      },
      "text/plain": [
       "Output()"
      ]
     },
     "metadata": {},
     "output_type": "display_data"
    },
    {
     "data": {
      "application/vnd.jupyter.widget-view+json": {
       "model_id": "9d8d300e0f864d998953d1b051960f2f",
       "version_major": 2,
       "version_minor": 0
      },
      "text/plain": [
       "VBox(children=(HBox(children=(HTML(value='\\n        <head>\\n            <style>\\n                th, td {\\n   …"
      ]
     },
     "metadata": {},
     "output_type": "display_data"
    }
   ],
   "source": [
    "# Display initial images.\n",
    "reg.view_init(overlay_legend=True, **options)"
   ]
  },
  {
   "cell_type": "markdown",
   "id": "e118f9af-f89f-4a68-a859-6496fd27446a",
   "metadata": {
    "tags": []
   },
   "source": [
    "### 5. Display registration result\n",
    "\n",
    "The (unaltered) fixed image and transformed moving image are displayed and compared."
   ]
  },
  {
   "cell_type": "code",
   "execution_count": 7,
   "id": "4614ecab-14b4-432a-b8d0-e2bdb8c9e38d",
   "metadata": {},
   "outputs": [
    {
     "data": {
      "application/vnd.jupyter.widget-view+json": {
       "model_id": "b0643d4badf4497fa5e6aaa9cadafd39",
       "version_major": 2,
       "version_minor": 0
      },
      "text/plain": [
       "VBox(children=(HBox(children=(VBox(children=(RadioButtons(description='Slice plane selection:', options=('x-y'…"
      ]
     },
     "metadata": {},
     "output_type": "display_data"
    },
    {
     "data": {
      "application/vnd.jupyter.widget-view+json": {
       "model_id": "77d6c11b50134b0b9b9b33e37980875a",
       "version_major": 2,
       "version_minor": 0
      },
      "text/plain": [
       "Output()"
      ]
     },
     "metadata": {},
     "output_type": "display_data"
    },
    {
     "data": {
      "application/vnd.jupyter.widget-view+json": {
       "model_id": "ced7f35c4e594248880bc63d03c113d1",
       "version_major": 2,
       "version_minor": 0
      },
      "text/plain": [
       "VBox(children=(HBox(children=(HTML(value='\\n        <head>\\n            <style>\\n                th, td {\\n   …"
      ]
     },
     "metadata": {},
     "output_type": "display_data"
    },
    {
     "data": {
      "application/vnd.jupyter.widget-view+json": {
       "model_id": "5ddba8ad2eef4f57a8076566a9184296",
       "version_major": 2,
       "version_minor": 0
      },
      "text/plain": [
       "VBox(children=(HBox(children=(VBox(children=(RadioButtons(description='Slice plane selection:', options=('x-y'…"
      ]
     },
     "metadata": {},
     "output_type": "display_data"
    },
    {
     "data": {
      "application/vnd.jupyter.widget-view+json": {
       "model_id": "c07ac808fb1d453b9c6e55db52dec68a",
       "version_major": 2,
       "version_minor": 0
      },
      "text/plain": [
       "Output()"
      ]
     },
     "metadata": {},
     "output_type": "display_data"
    },
    {
     "data": {
      "application/vnd.jupyter.widget-view+json": {
       "model_id": "daaa5bd3b7bb4afcbcaec90fa59604b8",
       "version_major": 2,
       "version_minor": 0
      },
      "text/plain": [
       "VBox(children=(HBox(children=(HTML(value='\\n        <head>\\n            <style>\\n                th, td {\\n   …"
      ]
     },
     "metadata": {},
     "output_type": "display_data"
    }
   ],
   "source": [
    "for engine, reg in registrations.items():\n",
    "    titles = [f\"{engine}: {title}\" for title in [\"fixed\", \"transformed moving\"]]\n",
    "    reg.view_result(overlay_legend=True, title=titles, **options)"
   ]
  },
  {
   "cell_type": "markdown",
   "id": "53cdff6f-7f97-408c-9a7d-89dd77df3b1b",
   "metadata": {},
   "source": [
    "### 6. Transformed grid\n",
    "\n",
    "The moving image and an initially regular grid are displayed after application of the transform calculated at each step in the registration.  This show the effect of pulling grid points from the space of the moving image to the space of the fixed image."
   ]
  },
  {
   "cell_type": "code",
   "execution_count": 8,
   "id": "7e91cd42-6815-4661-a19a-d6358c9ceb8a",
   "metadata": {},
   "outputs": [
    {
     "data": {
      "application/vnd.jupyter.widget-view+json": {
       "model_id": "0f2143fe32ee4bb483586ecde85b1f65",
       "version_major": 2,
       "version_minor": 0
      },
      "text/plain": [
       "VBox(children=(HBox(children=(VBox(children=(RadioButtons(description='Slice plane selection:', options=('x-y'…"
      ]
     },
     "metadata": {},
     "output_type": "display_data"
    },
    {
     "data": {
      "application/vnd.jupyter.widget-view+json": {
       "model_id": "f5d6462ebd6d48cbb6fe878086b619d8",
       "version_major": 2,
       "version_minor": 0
      },
      "text/plain": [
       "Output()"
      ]
     },
     "metadata": {},
     "output_type": "display_data"
    },
    {
     "data": {
      "application/vnd.jupyter.widget-view+json": {
       "model_id": "4f20c93b450d4a4d8da7d10ceb28e173",
       "version_major": 2,
       "version_minor": 0
      },
      "text/plain": [
       "VBox(children=(HBox(children=(HTML(value='\\n        <head>\\n            <style>\\n                th, td {\\n   …"
      ]
     },
     "metadata": {},
     "output_type": "display_data"
    },
    {
     "data": {
      "application/vnd.jupyter.widget-view+json": {
       "model_id": "1651b894ca1c410780d8faf216df27c1",
       "version_major": 2,
       "version_minor": 0
      },
      "text/plain": [
       "VBox(children=(HBox(children=(VBox(children=(RadioButtons(description='Slice plane selection:', options=('x-y'…"
      ]
     },
     "metadata": {},
     "output_type": "display_data"
    },
    {
     "data": {
      "application/vnd.jupyter.widget-view+json": {
       "model_id": "28be5469c3844d54bfdd9c850ac91e2b",
       "version_major": 2,
       "version_minor": 0
      },
      "text/plain": [
       "Output()"
      ]
     },
     "metadata": {},
     "output_type": "display_data"
    },
    {
     "data": {
      "application/vnd.jupyter.widget-view+json": {
       "model_id": "6828e2fd483d4a8d9b5b04e70377c600",
       "version_major": 2,
       "version_minor": 0
      },
      "text/plain": [
       "VBox(children=(HBox(children=(HTML(value='\\n        <head>\\n            <style>\\n                th, td {\\n   …"
      ]
     },
     "metadata": {},
     "output_type": "display_data"
    }
   ],
   "source": [
    "for engine, reg in registrations.items():\n",
    "    reg.transformed_images[reg.steps[0]].view(\n",
    "        images=[reg.transformed_images[step] for step in reg.steps[1:]],\n",
    "        grid=[reg.get_transformed_grid(step) for step in reg.steps],\n",
    "        title=[f\"{engine}: {step}\" for step in reg.steps],\n",
    "        colorbar=1, colorbar_label=\"Intensity (arbitrary units)\", grid_opacity=0.5, figsize=(21, 6), **options);"
   ]
  },
  {
   "cell_type": "markdown",
   "id": "9cd6f0f6-e37f-45ce-92ab-75a27ff2c902",
   "metadata": {},
   "source": [
    "### 7. Display Jacobian determinant\n",
    "\n",
    "The registration's Jacobian determinant shows how volumes change locally in mapping from the *fixed* image to the *moving* image.  Positive values define a scaling factor: values greater than 1 indicate expansion; values less than 1 indicate contraction.  Negative values indicate folding.\n",
    "\n",
    "For non-deformable registration, the Jacobian determinant is defined by elastix with a value of 1 everywhere, and is undefined by NiftyReg."
   ]
  },
  {
   "cell_type": "code",
   "execution_count": 9,
   "id": "69a887eb-7f26-4d27-b7a5-638038aa961e",
   "metadata": {},
   "outputs": [
    {
     "data": {
      "application/vnd.jupyter.widget-view+json": {
       "model_id": "595dd06ef7b845fd9365a151119c0767",
       "version_major": 2,
       "version_minor": 0
      },
      "text/plain": [
       "VBox(children=(HBox(children=(VBox(children=(RadioButtons(description='Slice plane selection:', options=('x-y'…"
      ]
     },
     "metadata": {},
     "output_type": "display_data"
    },
    {
     "data": {
      "application/vnd.jupyter.widget-view+json": {
       "model_id": "9d0a4468e3074a92b8c8d88017a136ee",
       "version_major": 2,
       "version_minor": 0
      },
      "text/plain": [
       "Output()"
      ]
     },
     "metadata": {},
     "output_type": "display_data"
    },
    {
     "data": {
      "application/vnd.jupyter.widget-view+json": {
       "model_id": "31eaa5719fd34d61849ad1dcfd89653f",
       "version_major": 2,
       "version_minor": 0
      },
      "text/plain": [
       "VBox(children=(HBox(children=(HTML(value='\\n        <head>\\n            <style>\\n                th, td {\\n   …"
      ]
     },
     "metadata": {},
     "output_type": "display_data"
    },
    {
     "data": {
      "application/vnd.jupyter.widget-view+json": {
       "model_id": "61c98becdaf44680b18f3082924fce7d",
       "version_major": 2,
       "version_minor": 0
      },
      "text/plain": [
       "VBox(children=(HBox(children=(VBox(children=(RadioButtons(description='Slice plane selection:', options=('x-y'…"
      ]
     },
     "metadata": {},
     "output_type": "display_data"
    },
    {
     "data": {
      "application/vnd.jupyter.widget-view+json": {
       "model_id": "0d635d328b324dc6beffa61eea40a8ad",
       "version_major": 2,
       "version_minor": 0
      },
      "text/plain": [
       "Output()"
      ]
     },
     "metadata": {},
     "output_type": "display_data"
    },
    {
     "data": {
      "application/vnd.jupyter.widget-view+json": {
       "model_id": "ffdc932c95d440b3ab9af6d679e06b5f",
       "version_major": 2,
       "version_minor": 0
      },
      "text/plain": [
       "VBox(children=(HBox(children=(HTML(value='\\n        <head>\\n            <style>\\n                th, td {\\n   …"
      ]
     },
     "metadata": {},
     "output_type": "display_data"
    }
   ],
   "source": [
    "# For axes, set spacing (pad) and size of label and title\n",
    "for engine, reg in registrations.items():\n",
    "    reg.transformed_images[reg.steps[0]].view(\n",
    "        images=[reg.transformed_images[step] for step in reg.steps[1:]],\n",
    "        jacobian=[reg.get_jacobian(step) for step in reg.steps],\n",
    "        title=[f\"{engine}: {step}\" for step in reg.steps],\n",
    "        colorbar=-1, figsize=(21, 6), **options);"
   ]
  },
  {
   "cell_type": "markdown",
   "id": "2aa40906-3ce2-4913-b68c-c881f751b0dd",
   "metadata": {},
   "source": [
    "### 8. Display information from deformation field\n",
    "\n",
    "The registration's deformation field is represented by a four-dimensional array.  For each voxel in the (three-dimensional) fixed image, this defines a (three-component) vector defining the displacement in mapping from the *fixed* image to the *moving* image.\n",
    "\n",
    "(The deformation field referred to here is as defined for elastix (see section 4.2 of [elastix: the manual](https://elastix.lumc.nl/download/elastix-5.1.0-manual.pdf).  For NiftyReg this is the displacement field (see [reg_transform documentation](http://cmictig.cs.ucl.ac.uk/wiki/index.php/Reg_transform))."
   ]
  },
  {
   "cell_type": "markdown",
   "id": "a76a7add-4a4d-43f7-ab1c-54da135af1cd",
   "metadata": {},
   "source": [
    "#### 8.1 Maximum displacements\n",
    "\n",
    "In a translation step, maximum displacements reflect offsets of image features in the moving image relative to the corresponding features in the fixed image.  In affine and b-spline steps, maximum displacements can relate to volume changes or shape changes.\n",
    "\n",
    "The initial alignment in the registration is a user-defined translation.  It has been defined here to match the known feature offset, as reflected in the results: maximum displacements for the initial-alignment step exactly match the feature offset."
   ]
  },
  {
   "cell_type": "code",
   "execution_count": 10,
   "id": "4ff8325d-419f-42be-a705-32aef2dc09ff",
   "metadata": {},
   "outputs": [
    {
     "name": "stdout",
     "output_type": "stream",
     "text": [
      "Original offsets of sphere centroid relative to cube centroid: dx = 4.00, dy = -4.00, dz = 2.00\n",
      "elastix - initial_alignment: dx = 4.00, dy = -4.00, dz = 2.00\n",
      "elastix - bspline: dx = 15.27, dy = 7.39, dz = 13.60\n",
      "niftyreg - initial_alignment: dx = 4.00, dy = -4.00, dz = 2.00\n",
      "niftyreg - bspline: dx = 13.65, dy = 5.67, dz = 11.66\n"
     ]
    }
   ],
   "source": [
    "form = \".2f\"\n",
    "print(f\"Original offsets of sphere centroid relative to cube centroid: dx = {dx:{form}}, dy = {dy:{form}}, dz = {dz:{form}}\")\n",
    "\n",
    "for engine, reg in registrations.items():\n",
    "    for step in reg.steps:\n",
    "        displacements = {}\n",
    "        for xyz in [\"x\", \"y\", \"z\"]:\n",
    "            displacements[xyz] = reg.get_deformation_field(step).get_displacement_image(xyz).get_data().max()\n",
    "        print(f\"{engine} - {step}: dx = {displacements['x']:{form}}, dy = {displacements['y']:{form}}, dz = {displacements['z']:{form}}\")"
   ]
  },
  {
   "cell_type": "markdown",
   "id": "cd860cd6-6b73-42bc-8da7-f4feb6623b9f",
   "metadata": {},
   "source": [
    "#### 8.2 Quiver plots\n",
    "\n",
    "Quiver plots show the two-dimensional displacements, in the slice and orientation viewed, for mapping points from the fixed image to the moving image.  Arrow lengths and (by default) colours represent displacement magnitudes."
   ]
  },
  {
   "cell_type": "code",
   "execution_count": 11,
   "id": "2117bdbf-df27-48a7-90a9-40385533c1d9",
   "metadata": {},
   "outputs": [
    {
     "data": {
      "application/vnd.jupyter.widget-view+json": {
       "model_id": "7905772572ae4cbd9091feed9d41ecc4",
       "version_major": 2,
       "version_minor": 0
      },
      "text/plain": [
       "VBox(children=(HBox(children=(VBox(children=(RadioButtons(description='Slice plane selection:', options=('x-y'…"
      ]
     },
     "metadata": {},
     "output_type": "display_data"
    },
    {
     "data": {
      "application/vnd.jupyter.widget-view+json": {
       "model_id": "3166a5f5007f49a9bfb86415d5a95a20",
       "version_major": 2,
       "version_minor": 0
      },
      "text/plain": [
       "Output()"
      ]
     },
     "metadata": {},
     "output_type": "display_data"
    },
    {
     "data": {
      "application/vnd.jupyter.widget-view+json": {
       "model_id": "5cd7b95c80ac4dc09efb2a897ec4f175",
       "version_major": 2,
       "version_minor": 0
      },
      "text/plain": [
       "VBox(children=(HBox(children=(HTML(value='\\n        <head>\\n            <style>\\n                th, td {\\n   …"
      ]
     },
     "metadata": {},
     "output_type": "display_data"
    },
    {
     "data": {
      "application/vnd.jupyter.widget-view+json": {
       "model_id": "6795acbd2c1941b18cce1f6f004c008a",
       "version_major": 2,
       "version_minor": 0
      },
      "text/plain": [
       "VBox(children=(HBox(children=(VBox(children=(RadioButtons(description='Slice plane selection:', options=('x-y'…"
      ]
     },
     "metadata": {},
     "output_type": "display_data"
    },
    {
     "data": {
      "application/vnd.jupyter.widget-view+json": {
       "model_id": "bfc7aaaf0dca408a868269f226af365b",
       "version_major": 2,
       "version_minor": 0
      },
      "text/plain": [
       "Output()"
      ]
     },
     "metadata": {},
     "output_type": "display_data"
    },
    {
     "data": {
      "application/vnd.jupyter.widget-view+json": {
       "model_id": "892d1416748e440cb31ab30db80ec8b4",
       "version_major": 2,
       "version_minor": 0
      },
      "text/plain": [
       "VBox(children=(HBox(children=(HTML(value='\\n        <head>\\n            <style>\\n                th, td {\\n   …"
      ]
     },
     "metadata": {},
     "output_type": "display_data"
    }
   ],
   "source": [
    "for engine, reg in registrations.items():\n",
    "    reg.transformed_images[reg.steps[0]].view(\n",
    "        images=[reg.transformed_images[step] for step in reg.steps[1:]],\n",
    "        df=[reg.get_deformation_field(step) for step in reg.steps], df_spacing=10,\n",
    "        title=[f\"{engine}: {step}\" for step in reg.steps], df_plot_type=\"quiver\", df_opacity=0.8,\n",
    "        colorbar=-1, figsize=(21, 6), colorbar_last_only=False, **options);"
   ]
  },
  {
   "cell_type": "markdown",
   "id": "c4ccc67c-6b8b-435d-b0ff-2f2c12ee27eb",
   "metadata": {},
   "source": [
    "#### 8.3 Deformation grid\n",
    "\n",
    "The deformation grid at each step in the registration shows how points on a grid in the space of the fixed image are pushed to the moving image.  This means that it shows the effect of transformations in the direction opposite from the transformed grid (section 6 above)."
   ]
  },
  {
   "cell_type": "code",
   "execution_count": 12,
   "id": "08d11ba8-bfde-4d37-bae2-aa1ce17a6c4d",
   "metadata": {},
   "outputs": [
    {
     "data": {
      "application/vnd.jupyter.widget-view+json": {
       "model_id": "2e7bd216ed7749a78b0d49909f6c527e",
       "version_major": 2,
       "version_minor": 0
      },
      "text/plain": [
       "VBox(children=(HBox(children=(VBox(children=(RadioButtons(description='Slice plane selection:', options=('x-y'…"
      ]
     },
     "metadata": {},
     "output_type": "display_data"
    },
    {
     "data": {
      "application/vnd.jupyter.widget-view+json": {
       "model_id": "880a759f457e4c15894739fc561e5baa",
       "version_major": 2,
       "version_minor": 0
      },
      "text/plain": [
       "Output()"
      ]
     },
     "metadata": {},
     "output_type": "display_data"
    },
    {
     "data": {
      "application/vnd.jupyter.widget-view+json": {
       "model_id": "ff8ec138db9d419cab81cc093908cd5d",
       "version_major": 2,
       "version_minor": 0
      },
      "text/plain": [
       "VBox(children=(HBox(children=(HTML(value='\\n        <head>\\n            <style>\\n                th, td {\\n   …"
      ]
     },
     "metadata": {},
     "output_type": "display_data"
    },
    {
     "data": {
      "application/vnd.jupyter.widget-view+json": {
       "model_id": "f41d9779be4d44ce896dfc0d3674afa1",
       "version_major": 2,
       "version_minor": 0
      },
      "text/plain": [
       "VBox(children=(HBox(children=(VBox(children=(RadioButtons(description='Slice plane selection:', options=('x-y'…"
      ]
     },
     "metadata": {},
     "output_type": "display_data"
    },
    {
     "data": {
      "application/vnd.jupyter.widget-view+json": {
       "model_id": "29fa2efff79c4a05888c9ffffc0bd061",
       "version_major": 2,
       "version_minor": 0
      },
      "text/plain": [
       "Output()"
      ]
     },
     "metadata": {},
     "output_type": "display_data"
    },
    {
     "data": {
      "application/vnd.jupyter.widget-view+json": {
       "model_id": "3a299370e8d24568a6a4b3977101600b",
       "version_major": 2,
       "version_minor": 0
      },
      "text/plain": [
       "VBox(children=(HBox(children=(HTML(value='\\n        <head>\\n            <style>\\n                th, td {\\n   …"
      ]
     },
     "metadata": {},
     "output_type": "display_data"
    }
   ],
   "source": [
    "for engine, reg in registrations.items():\n",
    "    reg.transformed_images[reg.steps[0]].view(\n",
    "        images=[reg.transformed_images[step] for step in reg.steps[1:]],\n",
    "        df=[reg.get_deformation_field(step) for step in reg.steps], df_spacing=10,\n",
    "        title=[f\"{engine}: {step}\" for step in reg.steps], df_plot_type=\"grid\", df_opacity=0.8,\n",
    "        colorbar=-1, figsize=(21, 6), colorbar_last_only=False, **options);"
   ]
  },
  {
   "cell_type": "markdown",
   "id": "594ed2a2-d79e-405a-9e02-6dbd2991a07b",
   "metadata": {},
   "source": [
    "#### 8.4 One-dimensional displacements\n",
    "\n",
    "A plot of one-dimensional displacements shows the displacements along the `x`, `y`, or `z` axis in mapping from fixed image to moving image.\n",
    "\n",
    "For translations, displacements are the same everywhere, so that plots have an\n",
    "overlay of uniform colour (different depending on the direction considered).  Final displacements here are the result of the initial-alignment translation plus deformations.  The effect of the latter is that negative displacements become less negative and positive displacements become less positive: the region occupied by the sphere in the fixed image is compressed to occupy a smaller region when mapped to the moving image."
   ]
  },
  {
   "cell_type": "code",
   "execution_count": 13,
   "id": "c89b2ae1-6db2-4577-a7ea-028d58a596cf",
   "metadata": {},
   "outputs": [
    {
     "data": {
      "application/vnd.jupyter.widget-view+json": {
       "model_id": "b91199c30b8f4b038787fc0a65df5a87",
       "version_major": 2,
       "version_minor": 0
      },
      "text/plain": [
       "VBox(children=(HBox(children=(VBox(children=(RadioButtons(description='Slice plane selection:', options=('x-y'…"
      ]
     },
     "metadata": {},
     "output_type": "display_data"
    },
    {
     "data": {
      "application/vnd.jupyter.widget-view+json": {
       "model_id": "ec2e419589e142438dcd60daf792535e",
       "version_major": 2,
       "version_minor": 0
      },
      "text/plain": [
       "Output()"
      ]
     },
     "metadata": {},
     "output_type": "display_data"
    },
    {
     "data": {
      "application/vnd.jupyter.widget-view+json": {
       "model_id": "c5f2c61316b94994964bac7c6a340b7e",
       "version_major": 2,
       "version_minor": 0
      },
      "text/plain": [
       "VBox(children=(HBox(children=(HTML(value='\\n        <head>\\n            <style>\\n                th, td {\\n   …"
      ]
     },
     "metadata": {},
     "output_type": "display_data"
    },
    {
     "data": {
      "application/vnd.jupyter.widget-view+json": {
       "model_id": "d4c18938e7d048baa532edfe3e243a0c",
       "version_major": 2,
       "version_minor": 0
      },
      "text/plain": [
       "VBox(children=(HBox(children=(VBox(children=(RadioButtons(description='Slice plane selection:', options=('x-y'…"
      ]
     },
     "metadata": {},
     "output_type": "display_data"
    },
    {
     "data": {
      "application/vnd.jupyter.widget-view+json": {
       "model_id": "9c7750da64c74e81bbb60fe61057d8f3",
       "version_major": 2,
       "version_minor": 0
      },
      "text/plain": [
       "Output()"
      ]
     },
     "metadata": {},
     "output_type": "display_data"
    },
    {
     "data": {
      "application/vnd.jupyter.widget-view+json": {
       "model_id": "9286466288ed4570aea48a9662a4ff0a",
       "version_major": 2,
       "version_minor": 0
      },
      "text/plain": [
       "VBox(children=(HBox(children=(HTML(value='\\n        <head>\\n            <style>\\n                th, td {\\n   …"
      ]
     },
     "metadata": {},
     "output_type": "display_data"
    },
    {
     "data": {
      "application/vnd.jupyter.widget-view+json": {
       "model_id": "2015906dd94d4eb19ccf69448b8f33eb",
       "version_major": 2,
       "version_minor": 0
      },
      "text/plain": [
       "VBox(children=(HBox(children=(VBox(children=(RadioButtons(description='Slice plane selection:', index=1, optio…"
      ]
     },
     "metadata": {},
     "output_type": "display_data"
    },
    {
     "data": {
      "application/vnd.jupyter.widget-view+json": {
       "model_id": "d58d13a9f5b04d0885fad4e5b57bb76e",
       "version_major": 2,
       "version_minor": 0
      },
      "text/plain": [
       "Output()"
      ]
     },
     "metadata": {},
     "output_type": "display_data"
    },
    {
     "data": {
      "application/vnd.jupyter.widget-view+json": {
       "model_id": "4fd7b0a947d648b7ae2ab3cb4562af12",
       "version_major": 2,
       "version_minor": 0
      },
      "text/plain": [
       "VBox(children=(HBox(children=(HTML(value='\\n        <head>\\n            <style>\\n                th, td {\\n   …"
      ]
     },
     "metadata": {},
     "output_type": "display_data"
    },
    {
     "data": {
      "application/vnd.jupyter.widget-view+json": {
       "model_id": "4566f8c4931d4ed6b9ea66c7fbf43526",
       "version_major": 2,
       "version_minor": 0
      },
      "text/plain": [
       "VBox(children=(HBox(children=(VBox(children=(RadioButtons(description='Slice plane selection:', index=1, optio…"
      ]
     },
     "metadata": {},
     "output_type": "display_data"
    },
    {
     "data": {
      "application/vnd.jupyter.widget-view+json": {
       "model_id": "99c4970641cf4381b40c2b41f1ea3c52",
       "version_major": 2,
       "version_minor": 0
      },
      "text/plain": [
       "Output()"
      ]
     },
     "metadata": {},
     "output_type": "display_data"
    },
    {
     "data": {
      "application/vnd.jupyter.widget-view+json": {
       "model_id": "fe7a408e4f98412bbb212ea7fc16b61f",
       "version_major": 2,
       "version_minor": 0
      },
      "text/plain": [
       "VBox(children=(HBox(children=(HTML(value='\\n        <head>\\n            <style>\\n                th, td {\\n   …"
      ]
     },
     "metadata": {},
     "output_type": "display_data"
    },
    {
     "data": {
      "application/vnd.jupyter.widget-view+json": {
       "model_id": "048d8e5a348e4b7889dc6e23bb1a6a79",
       "version_major": 2,
       "version_minor": 0
      },
      "text/plain": [
       "VBox(children=(HBox(children=(VBox(children=(RadioButtons(description='Slice plane selection:', index=2, optio…"
      ]
     },
     "metadata": {},
     "output_type": "display_data"
    },
    {
     "data": {
      "application/vnd.jupyter.widget-view+json": {
       "model_id": "d3b0793989f5452ba5f4832b008c1052",
       "version_major": 2,
       "version_minor": 0
      },
      "text/plain": [
       "Output()"
      ]
     },
     "metadata": {},
     "output_type": "display_data"
    },
    {
     "data": {
      "application/vnd.jupyter.widget-view+json": {
       "model_id": "21fbbdb1099548149ba66b9226e73154",
       "version_major": 2,
       "version_minor": 0
      },
      "text/plain": [
       "VBox(children=(HBox(children=(HTML(value='\\n        <head>\\n            <style>\\n                th, td {\\n   …"
      ]
     },
     "metadata": {},
     "output_type": "display_data"
    },
    {
     "data": {
      "application/vnd.jupyter.widget-view+json": {
       "model_id": "9e4817db1af1408ca08ae6cc2a7ba6b9",
       "version_major": 2,
       "version_minor": 0
      },
      "text/plain": [
       "VBox(children=(HBox(children=(VBox(children=(RadioButtons(description='Slice plane selection:', index=2, optio…"
      ]
     },
     "metadata": {},
     "output_type": "display_data"
    },
    {
     "data": {
      "application/vnd.jupyter.widget-view+json": {
       "model_id": "ac50ed52bfa44d0aac9815613a4ef046",
       "version_major": 2,
       "version_minor": 0
      },
      "text/plain": [
       "Output()"
      ]
     },
     "metadata": {},
     "output_type": "display_data"
    },
    {
     "data": {
      "application/vnd.jupyter.widget-view+json": {
       "model_id": "2d2eb8e2bf254233b9037094de744d44",
       "version_major": 2,
       "version_minor": 0
      },
      "text/plain": [
       "VBox(children=(HBox(children=(HTML(value='\\n        <head>\\n            <style>\\n                th, td {\\n   …"
      ]
     },
     "metadata": {},
     "output_type": "display_data"
    }
   ],
   "source": [
    "options[\"clb_kwarg\"] = {\"pad\": 0.05}\n",
    "init_views = {\"x\": \"x-y\", \"y\": \"y-z\", \"z\": \"x-z\"} \n",
    "\n",
    "for xyz in [\"x\", \"y\", \"z\"]:\n",
    "    for engine, reg in registrations.items():\n",
    "        reg.transformed_images[reg.steps[0]].view(\n",
    "            images=[reg.transformed_images[step] for step in reg.steps[1:]],\n",
    "            df=[reg.get_deformation_field(step) for step in reg.steps], df_spacing=10,\n",
    "        title=[f\"{engine}: {step}\" for step in reg.steps], df_plot_type=f\"{xyz}-displacement\", df_opacity=0.8,\n",
    "            colorbar=-1, figsize=(21, 6), colorbar_last_only=False,\n",
    "            init_view=init_views[xyz], **options)"
   ]
  },
  {
   "cell_type": "markdown",
   "id": "a993de66-38ef-4b24-9e61-f35216ef3f3b",
   "metadata": {
    "tags": []
   },
   "source": [
    "#### 8.5 Three-dimensional displacement magnitudes\n",
    "\n",
    "A plot of three-dimensional displacement magnituds shows the magnitudes of the three-dimensional displacement vectors for the registration's mapping from fixed image to moving image."
   ]
  },
  {
   "cell_type": "code",
   "execution_count": 14,
   "id": "dda53ff1-30df-4dc7-bbc1-6e4bba4ddd48",
   "metadata": {},
   "outputs": [
    {
     "data": {
      "application/vnd.jupyter.widget-view+json": {
       "model_id": "479e6ac906074d06b0cfff756d903bb0",
       "version_major": 2,
       "version_minor": 0
      },
      "text/plain": [
       "VBox(children=(HBox(children=(VBox(children=(RadioButtons(description='Slice plane selection:', options=('x-y'…"
      ]
     },
     "metadata": {},
     "output_type": "display_data"
    },
    {
     "data": {
      "application/vnd.jupyter.widget-view+json": {
       "model_id": "131b3202565f485fb0a823fd35c36c07",
       "version_major": 2,
       "version_minor": 0
      },
      "text/plain": [
       "Output()"
      ]
     },
     "metadata": {},
     "output_type": "display_data"
    },
    {
     "data": {
      "application/vnd.jupyter.widget-view+json": {
       "model_id": "afcc1f902b77446e83e68a69b3f2eab8",
       "version_major": 2,
       "version_minor": 0
      },
      "text/plain": [
       "VBox(children=(HBox(children=(HTML(value='\\n        <head>\\n            <style>\\n                th, td {\\n   …"
      ]
     },
     "metadata": {},
     "output_type": "display_data"
    },
    {
     "data": {
      "application/vnd.jupyter.widget-view+json": {
       "model_id": "139906a34d7b4cf09b03466764ee5761",
       "version_major": 2,
       "version_minor": 0
      },
      "text/plain": [
       "VBox(children=(HBox(children=(VBox(children=(RadioButtons(description='Slice plane selection:', options=('x-y'…"
      ]
     },
     "metadata": {},
     "output_type": "display_data"
    },
    {
     "data": {
      "application/vnd.jupyter.widget-view+json": {
       "model_id": "e452e928a4bd41e78a5e7960225111a1",
       "version_major": 2,
       "version_minor": 0
      },
      "text/plain": [
       "Output()"
      ]
     },
     "metadata": {},
     "output_type": "display_data"
    },
    {
     "data": {
      "application/vnd.jupyter.widget-view+json": {
       "model_id": "db912573215f45348303ce163c9bdbd8",
       "version_major": 2,
       "version_minor": 0
      },
      "text/plain": [
       "VBox(children=(HBox(children=(HTML(value='\\n        <head>\\n            <style>\\n                th, td {\\n   …"
      ]
     },
     "metadata": {},
     "output_type": "display_data"
    }
   ],
   "source": [
    "for engine, reg in registrations.items():\n",
    "    reg.transformed_images[reg.steps[0]].view(\n",
    "        images=[reg.transformed_images[step] for step in reg.steps[1:]],\n",
    "        df=[reg.get_deformation_field(step) for step in reg.steps], df_spacing=10,\n",
    "        title=[f\"{engine}: {step}\" for step in reg.steps], df_plot_type=\"3d-displacement\",\n",
    "        df_opacity=0.8, colorbar=-1, figsize=(21, 6), colorbar_last_only=False,\n",
    "        **options, df_kwargs={\"vmin\": 0, \"cmap\": \"jet\"});"
   ]
  }
 ],
 "metadata": {
  "kernelspec": {
   "display_name": "Python 3 (ipykernel)",
   "language": "python",
   "name": "python3"
  },
  "language_info": {
   "codemirror_mode": {
    "name": "ipython",
    "version": 3
   },
   "file_extension": ".py",
   "mimetype": "text/x-python",
   "name": "python",
   "nbconvert_exporter": "python",
   "pygments_lexer": "ipython3",
   "version": "3.8.15"
  }
 },
 "nbformat": 4,
 "nbformat_minor": 5
}

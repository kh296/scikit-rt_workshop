{
 "cells": [
  {
   "cell_type": "markdown",
   "id": "12fc2715-f229-4619-bc82-a936fa66e175",
   "metadata": {},
   "source": [
    "# Scikit-rt applications\n",
    "\n",
    "This notebook demonstrates how to define and run a `scikit-rt` application on datasets for multiple patients.\n",
    "\n",
    "Documentation for `scikit-rt` is at:  \n",
    "[https://scikit-rt.github.io/scikit-rt/](https://scikit-rt.github.io/scikit-rt/)\n",
    "\n",
    "\n",
    "This notebook uses the dataset:\n",
    "\n",
    "Peihan Li, \"SPECT_CT_data.zip\", Figshare dataset (2020)  \n",
    "https://doi.org/10.6084/m9.figshare.12579707.v1\n",
    "\n",
    "If not already present on the computer where this notebook is run, the dataset will be downloaded to the directory specified by `topdir` in the\n",
    "first code cell below.  The download file has a size of 1.6 GB, so download may take a while.\n",
    "\n",
    "In practice, scikit-rt application code would usually run in a script, rather than in a notebook.  For a large-scale analysis, scikit-rt applications can be handled by the [ganga](https://github.com/ganga-devs/ganga) task-management system, using the [ganga-skrt](https://github.com/kh296/ganga-skrt) extension.  This allows for submission to a batch system, and for splitting tasks into multiple sub-tasks, each of which processes a subset of the patient datasets;"
   ]
  },
  {
   "cell_type": "markdown",
   "id": "70933d87-f092-428c-aa10-cb89f31affb6",
   "metadata": {},
   "source": [
    "## Module import and data download\n",
    "\n",
    "The following imports modules needed for this example, defines the path to the data directory, downloads the example dataset if not already present, obtains the list of paths to patient folders, and sets some viewer options."
   ]
  },
  {
   "cell_type": "code",
   "execution_count": 1,
   "id": "31618b89-bf40-494a-b103-3c90b0462480",
   "metadata": {},
   "outputs": [],
   "source": [
    "from pathlib import Path\n",
    "from skrt import set_viewer_options, BetterViewer, Patient\n",
    "from skrt.core import alphanumeric, compress_user, download, Defaults\n",
    "\n",
    "# Define URL of source dataset, and local data directory.\n",
    "url = \"https://figshare.com/ndownloader/files/23528954/SPECT_CT_data.zip\"\n",
    "topdir = Path(\"~/data/spect_ct\").expanduser()\n",
    "datadir = topdir / Path(url).stem\n",
    "\n",
    "# Download dataset if not already present.\n",
    "if not datadir.exists():\n",
    "    download(url, topdir, unzip=True)\n",
    "    \n",
    "# Obtain sorted list of paths to patient folders.\n",
    "paths = sorted(list(datadir.glob(\"0*\")))\n",
    "    \n",
    "# Set Matplotlib runtime configuration (optional).\n",
    "set_viewer_options()\n",
    "\n",
    "# In place of interactive images, display static graphics that can be saved with notebook.\n",
    "# Defaults().no_ui = True\n",
    "# Omit user part of paths when printing object attributes.\n",
    "Defaults().compress_user = True"
   ]
  },
  {
   "cell_type": "markdown",
   "id": "9b63cd45-f0f6-4abf-bc6d-28b2537860ac",
   "metadata": {},
   "source": [
    "## Scikit-rt applications\n",
    "\n",
    "A scikit-rt application is constructed as a sequence of algorithms, each of which inherits from the [skrt.application.Algorithm](https://scikit-rt.github.io/scikit-rt/skrt.application.html#skrt.application.Algorithm) class.  This defines three methods relating to execution:\n",
    "\n",
    "- `initialise()` - run before any patient data are read;\n",
    "- `execute()` - run once for each patient;\n",
    "- `finalise()` - run after all patient data have been read.\n",
    "\n",
    "Each method returns an instance of the [skrt.application.Status](https://scikit-rt.github.io/scikit-rt/skrt.application.html#skrt.application.Status) class,\n",
    "providing information on whether execution problems were encountered.  \n",
    "The `initialise()` and/or `finalise()` may be omitted from a subclass if there is\n",
    "no code that needs to be executed before and/or after reading patient data.\n",
    "\n",
    "Running of algorithm methods is handled by the [skrt.application.Application](https://scikit-rt.github.io/scikit-rt/skrt.application.html#skrt.application.Application) class."
   ]
  },
  {
   "cell_type": "markdown",
   "id": "9b8bb9ab-fb97-498c-8017-c36dcdfdc818",
   "metadata": {},
   "source": [
    "## Example application\n",
    "\n",
    "The code in the next cell implements an algorithm for creating and saving (CSV format) a pandas Dataframe containing summary information for patient datasets, and defines a function for creating and configuring an application to use this algorithm."
   ]
  },
  {
   "cell_type": "code",
   "execution_count": 2,
   "id": "60159dcc-b1df-4811-9f90-e778786a2fbd",
   "metadata": {},
   "outputs": [],
   "source": [
    "'''\n",
    "Algorithm for extracting summary data.\n",
    "'''\n",
    "\n",
    "from itertools import chain\n",
    "from pathlib import Path\n",
    "\n",
    "import pandas as pd\n",
    "\n",
    "from skrt.application import Algorithm, Application, get_paths\n",
    "from skrt.core import tic, toc\n",
    "\n",
    "class ExtractInfo(Algorithm):\n",
    "    '''\n",
    "    Algorithm subclass, for extracting summary data.\n",
    "\n",
    "    Methods:\n",
    "        __init__ -- Return instance of ExtractInfo class,\n",
    "                    with properties set according to options dictionary.\n",
    "        execute  -- Extract summary data.\n",
    "    '''\n",
    "\n",
    "    def __init__(self, opts={}, name=None, log_level=None):\n",
    "        '''\n",
    "        **Parameters:**\n",
    "\n",
    "        opts: dict, default={}\n",
    "            Dictionary for setting algorithm attributes.\n",
    "\n",
    "        name: str, default=''\n",
    "            Name for identifying algorithm instance.\n",
    "\n",
    "        log_level: str/int/None, default=None\n",
    "            Severity level for event logging.  If the value is None,\n",
    "            log_level is set to the value of skrt.core.Defaults().log_level.\n",
    "        '''\n",
    "        # Set default values for algorithm properties.\n",
    "        #\n",
    "        # Name of output csv file.\n",
    "        self.summary_csv = 'summary_info.csv'\n",
    "\n",
    "        # Override default properties, based on contents of opts dictionary.\n",
    "        super().__init__(opts, name, log_level)\n",
    "\n",
    "        # List of dictionaries containing summary information for patient datasets.\n",
    "        self.summary_info = []\n",
    "        \n",
    "    def initialise(self):\n",
    "        '''\n",
    "        Perform any operations needed between algorithm instantiation\n",
    "        and the start of execution.\n",
    "        '''\n",
    "        return self.status\n",
    "\n",
    "    def execute(self, patient):\n",
    "        '''\n",
    "        Extract summary data for patient's dataset.\n",
    "\n",
    "        **Parameter:**\n",
    "\n",
    "        patient: skrt.patient.Patient/None, default=None\n",
    "            Object providing access to patient dataset.\n",
    "        '''\n",
    "        # Print details of current patient.\n",
    "        print(f'\\nPatient id: {patient.id}')\n",
    "        print(f'Folder path: {compress_user(patient.path)}')\n",
    "\n",
    "        # Create data record for current patient.\n",
    "        record = {\n",
    "            \"id\": patient.id,\n",
    "            \"n_images\": len(patient.get_images())\n",
    "        }\n",
    "        \n",
    "        # Add record to summary information for patient datasets.\n",
    "        self.summary_info.append(record)\n",
    "        \n",
    "        # Report time taken.\n",
    "        # (Timer is started in Patient constructor.)\n",
    "        self.logger.info(f\"Processing time: {toc():.2f} seconds\")\n",
    "\n",
    "        return self.status\n",
    "\n",
    "    def finalise(self):\n",
    "        '''\n",
    "        Write summary data to CSV file.\n",
    "        '''\n",
    "        df1 = pd.DataFrame(self.summary_info)\n",
    "        df1.to_csv(self.summary_csv, index=False)\n",
    "\n",
    "        return self.status\n",
    "\n",
    "\n",
    "def get_app(setup_script=''):\n",
    "    '''\n",
    "    Define and configure application to be run.\n",
    "    '''\n",
    "    # Set options via a dictionary, where keywords are algorithm attributes,\n",
    "    # and the associated values will be assigned to them\n",
    "    # when the algorithm is instantiated.\n",
    "    options = {}\n",
    "    \n",
    "    # Set the severity level for event logging.\n",
    "    log_level = 'INFO'\n",
    "\n",
    "    # Create algorithm object\n",
    "    alg = ExtractInfo(opts=options, name=None, log_level=log_level)\n",
    "\n",
    "    # Create the list of algorithms to be run (here just the one)\n",
    "    algs = [alg]\n",
    "\n",
    "    # Create the application\n",
    "    app = Application(algs=algs, log_level=log_level)\n",
    "\n",
    "    return app"
   ]
  },
  {
   "cell_type": "markdown",
   "id": "72372524-1ab1-4f2f-9a33-76c9b511ab56",
   "metadata": {},
   "source": [
    "## Running application\n",
    "\n",
    "The application's run method is passed a list of paths to patient folders,\n",
    "and may optionally be passed keyword-value pairs to be used internally when creating [skrt.patient.Patient](https://scikit-rt.github.io/scikit-rt/skrt.patient.html#skrt.patient.Patient) objects."
   ]
  },
  {
   "cell_type": "code",
   "execution_count": 3,
   "id": "661b35e2-5474-4edf-a1a8-a814908a0a0a",
   "metadata": {},
   "outputs": [
    {
     "name": "stdout",
     "output_type": "stream",
     "text": [
      "\n",
      "Patient id: 001\n",
      "Folder path: ~/data/spect_ct/SPECT_CT_data/001\n",
      "ExtractInfo - INFO - Processing time: 0.54 seconds\n",
      "\n",
      "Patient id: 002\n",
      "Folder path: ~/data/spect_ct/SPECT_CT_data/002\n",
      "ExtractInfo - INFO - Processing time: 0.31 seconds\n",
      "\n",
      "Patient id: 003\n",
      "Folder path: ~/data/spect_ct/SPECT_CT_data/003\n",
      "ExtractInfo - INFO - Processing time: 0.33 seconds\n",
      "\n",
      "Patient id: 004\n",
      "Folder path: ~/data/spect_ct/SPECT_CT_data/004\n",
      "ExtractInfo - INFO - Processing time: 0.30 seconds\n"
     ]
    }
   ],
   "source": [
    "# Define and configure the application to be run.\n",
    "app = get_app()\n",
    "\n",
    "# Algorithm options may be overwritten here.\n",
    "summary_csv = \"my_summary_info.csv\"\n",
    "app.algs[0].summary_csv = summary_csv\n",
    "\n",
    "# Run application for the selected data.\n",
    "app.run(paths[:4], unsorted_dicom=True);"
   ]
  },
  {
   "cell_type": "markdown",
   "id": "3db0d1a6-d7e4-4526-adcf-544799df1f28",
   "metadata": {},
   "source": [
    "## Application output\n",
    "\n",
    "The application's CSV output may be read back to a pandas Dataframe.  Some columns may be empty.  For example, anonymised data shouldn't include patient birth dates, and the dataset used for this demo doesn't include any data from patient treatment (such as guidance images for delivering radiotherapy)."
   ]
  },
  {
   "cell_type": "code",
   "execution_count": 4,
   "id": "d9187e57-aeae-4689-be80-70687d75006d",
   "metadata": {},
   "outputs": [
    {
     "name": "stdout",
     "output_type": "stream",
     "text": [
      "   id  n_images\n",
      "0   1         4\n",
      "1   2         4\n",
      "2   3         5\n",
      "3   4         5\n"
     ]
    }
   ],
   "source": [
    "df = pd.read_csv(summary_csv)\n",
    "print(df)"
   ]
  },
  {
   "cell_type": "markdown",
   "id": "5f9942e2-7d2a-46d1-bb47-733c100f12b3",
   "metadata": {},
   "source": [
    "## Visualising data\n",
    "\n",
    "Dataframe data may be visualised using pandas tools.  The following plots an example histogram, showing the numbers of individual files associated with CT images (one entry per patient in the dataset)."
   ]
  },
  {
   "cell_type": "code",
   "execution_count": 5,
   "id": "49e50424-a667-4062-92d6-02137c1b0e9d",
   "metadata": {},
   "outputs": [
    {
     "data": {
      "image/png": "[encoded data removed]",
      "text/plain": [
       "<Figure size 432x288 with 1 Axes>"
      ]
     },
     "metadata": {
      "needs_background": "light"
     },
     "output_type": "display_data"
    }
   ],
   "source": [
    "df[\"n_images\"].hist();"
   ]
  },
  {
   "cell_type": "markdown",
   "id": "651eaa58-ae69-446f-9df3-7ae18d3f0984",
   "metadata": {},
   "source": [
    "## Developing application\n",
    "\n",
    "After running, and understanding, the example application as initially implemented, try the following:\n",
    "\n",
    "- add print statements at the end of the algorithm's `__init__()` method and at the beginning of the `initialise()` method, to confirm that the name of the CSV file is changed in the code cell for [Running application](#Running-application);\n",
    "- edit the algorithm's `execute()` method, to include additional information in the summary;\n",
    "- plot histograms for the additional information;\n",
    "- remove the limit on the number of paths passed to the application, to run over the full dataset."
   ]
  }
 ],
 "metadata": {
  "kernelspec": {
   "display_name": "Python 3 (ipykernel)",
   "language": "python",
   "name": "python3"
  },
  "language_info": {
   "codemirror_mode": {
    "name": "ipython",
    "version": 3
   },
   "file_extension": ".py",
   "mimetype": "text/x-python",
   "name": "python",
   "nbconvert_exporter": "python",
   "pygments_lexer": "ipython3",
   "version": "3.8.15"
  },
  "toc-showtags": false
 },
 "nbformat": 4,
 "nbformat_minor": 5
}
